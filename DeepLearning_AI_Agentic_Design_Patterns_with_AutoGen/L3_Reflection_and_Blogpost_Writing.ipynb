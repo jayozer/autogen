{
 "cells": [
  {
   "cell_type": "markdown",
   "id": "fc3024e2",
   "metadata": {},
   "source": [
    "# Lesson 3: Reflection and Blogpost Writing"
   ]
  },
  {
   "cell_type": "markdown",
   "id": "3b0cc42f",
   "metadata": {},
   "source": [
    "## Setup"
   ]
  },
  {
   "cell_type": "code",
   "execution_count": 3,
   "id": "96d39be0-eaf3-456d-8613-ba21099ed36b",
   "metadata": {
    "height": 30
   },
   "outputs": [],
   "source": [
    "llm_config = {\"model\": \"gpt-3.5-turbo\"}"
   ]
  },
  {
   "cell_type": "markdown",
   "id": "0969e6bb",
   "metadata": {},
   "source": [
    "## The task!"
   ]
  },
  {
   "cell_type": "code",
   "execution_count": 4,
   "id": "e8074032-3690-4de9-ad08-ea8323cb441b",
   "metadata": {
    "height": 115
   },
   "outputs": [],
   "source": [
    "task = '''\n",
    "        Write a concise but engaging blogpost about\n",
    "       DeepLearning.AI. Make sure the blogpost is\n",
    "       within 100 words.\n",
    "       '''\n"
   ]
  },
  {
   "cell_type": "markdown",
   "id": "1987f023",
   "metadata": {},
   "source": [
    "## Create a writer agent"
   ]
  },
  {
   "cell_type": "code",
   "execution_count": 5,
   "id": "fe0f0a47-a9fe-43a0-b7b1-79922e4c4ac8",
   "metadata": {
    "height": 183
   },
   "outputs": [
    {
     "name": "stdout",
     "output_type": "stream",
     "text": [
      "[autogen.oai.client: 07-12 17:16:26] {129} WARNING - The API key specified is not a valid OpenAI format; it won't work with the OpenAI-hosted model.\n"
     ]
    }
   ],
   "source": [
    "import autogen\n",
    "\n",
    "writer = autogen.AssistantAgent(\n",
    "    name=\"Writer\",\n",
    "    system_message=\"You are a writer. You write engaging and concise \" \n",
    "        \"blogpost (with title) on given topics. You must polish your \"\n",
    "        \"writing based on the feedback you receive and give a refined \"\n",
    "        \"version. Only return your final work without additional comments.\",\n",
    "    llm_config=llm_config,\n",
    ")"
   ]
  },
  {
   "cell_type": "code",
   "execution_count": 6,
   "id": "7c7b4d8d-40f7-4a05-8958-25d20054de3a",
   "metadata": {
    "height": 30
   },
   "outputs": [],
   "source": [
    "reply = writer.generate_reply(messages=[{\"content\": task, \"role\": \"user\"}])"
   ]
  },
  {
   "cell_type": "code",
   "execution_count": 7,
   "id": "c501c97d-e338-4f36-a384-6ec45983cf77",
   "metadata": {
    "height": 30
   },
   "outputs": [
    {
     "name": "stdout",
     "output_type": "stream",
     "text": [
      "Title: Unveiling the Power of DeepLearning.AI\n",
      "\n",
      "Dive into the world of artificial intelligence with DeepLearning.AI! Offering top-notch courses created by professionals like Andrew Ng, this platform makes complex concepts simple and accessible to all. From neural networks to deep learning algorithms, you’ll master it all. Whether you're a beginner or an expert, there's something for everyone. Sharpen your skills, land that dream job, or simply satisfy your curiosity. With DeepLearning.AI, the possibilities are endless. Join the AI revolution today!\n"
     ]
    }
   ],
   "source": [
    "print(reply)"
   ]
  },
  {
   "cell_type": "markdown",
   "id": "49658114",
   "metadata": {},
   "source": [
    "## Adding reflection \n",
    "\n",
    "Create a critic agent to reflect on the work of the writer agent."
   ]
  },
  {
   "cell_type": "code",
   "execution_count": 8,
   "id": "c7fcd1c7-51ec-4915-8e97-bac03565c4c7",
   "metadata": {
    "height": 149
   },
   "outputs": [
    {
     "name": "stdout",
     "output_type": "stream",
     "text": [
      "[autogen.oai.client: 07-12 17:16:31] {129} WARNING - The API key specified is not a valid OpenAI format; it won't work with the OpenAI-hosted model.\n"
     ]
    }
   ],
   "source": [
    "critic = autogen.AssistantAgent(\n",
    "    name=\"Critic\",\n",
    "    is_termination_msg=lambda x: x.get(\"content\", \"\").find(\"TERMINATE\") >= 0,\n",
    "    llm_config=llm_config,\n",
    "    system_message=\"You are a critic. You review the work of \"\n",
    "                \"the writer and provide constructive \"\n",
    "                \"feedback to help improve the quality of the content.\",\n",
    ")"
   ]
  },
  {
   "cell_type": "code",
   "execution_count": 9,
   "id": "899d5fdb-6081-470b-b287-8cf8b8142d0d",
   "metadata": {
    "height": 115
   },
   "outputs": [
    {
     "name": "stdout",
     "output_type": "stream",
     "text": [
      "\u001b[33mCritic\u001b[0m (to Writer):\n",
      "\n",
      "\n",
      "        Write a concise but engaging blogpost about\n",
      "       DeepLearning.AI. Make sure the blogpost is\n",
      "       within 100 words.\n",
      "       \n",
      "\n",
      "--------------------------------------------------------------------------------\n",
      "\u001b[33mWriter\u001b[0m (to Critic):\n",
      "\n",
      "Title: Unveiling the Power of DeepLearning.AI\n",
      "\n",
      "Dive into the world of artificial intelligence with DeepLearning.AI! Offering top-notch courses created by professionals like Andrew Ng, this platform makes complex concepts simple and accessible to all. From neural networks to deep learning algorithms, you’ll master it all. Whether you're a beginner or an expert, there's something for everyone. Sharpen your skills, land that dream job, or simply satisfy your curiosity. With DeepLearning.AI, the possibilities are endless. Join the AI revolution today!\n",
      "\n",
      "--------------------------------------------------------------------------------\n",
      "\u001b[33mCritic\u001b[0m (to Writer):\n",
      "\n",
      "The blog post \"Unveiling the Power of DeepLearning.AI\" effectively captures the essence of the platform in an engaging and concise manner. The title is catchy and draws the reader in, setting a positive tone for the rest of the content. The post highlights the key features of DeepLearning.AI, such as its professional courses and accessibility to learners of all levels.\n",
      "\n",
      "One aspect that could be improved is including specific examples or testimonials to add credibility and showcase the real impact of the platform on learners. Additionally, providing a brief overview of the course offerings or a sneak peek into the learning experience could further entice readers to explore DeepLearning.AI.\n",
      "\n",
      "Overall, great job in presenting the benefits of DeepLearning.AI in a succinct and compelling way!\n",
      "\n",
      "--------------------------------------------------------------------------------\n",
      "\u001b[33mWriter\u001b[0m (to Critic):\n",
      "\n",
      "Title: Unleashing the Potential of DeepLearning.AI\n",
      "\n",
      "Embark on an AI journey with DeepLearning.AI! Led by experts like Andrew Ng, this platform simplifies intricate AI concepts for all learners. From neural networks to cutting-edge algorithms, master it all. Whether a novice or pro, there's content for everyone. Enhance your skills, advance your career, or nurture your curiosity. DeepLearning.AI opens doors to endless opportunities in the AI realm. Don't miss the chance to be part of the AI revolution – join us today!\n",
      "\n",
      "--------------------------------------------------------------------------------\n"
     ]
    }
   ],
   "source": [
    "res = critic.initiate_chat(\n",
    "    recipient=writer,\n",
    "    message=task,\n",
    "    max_turns=2,\n",
    "    summary_method=\"last_msg\"\n",
    ")"
   ]
  },
  {
   "cell_type": "markdown",
   "id": "e7b76449",
   "metadata": {},
   "source": [
    "## Nested chat - there can be several critic agents. each reviewing the content and make updates."
   ]
  },
  {
   "cell_type": "code",
   "execution_count": 10,
   "id": "401ecf92-63e9-40ff-aeed-1c404352e4ab",
   "metadata": {
    "height": 200
   },
   "outputs": [
    {
     "name": "stdout",
     "output_type": "stream",
     "text": [
      "[autogen.oai.client: 07-12 17:37:12] {129} WARNING - The API key specified is not a valid OpenAI format; it won't work with the OpenAI-hosted model.\n"
     ]
    }
   ],
   "source": [
    "SEO_reviewer = autogen.AssistantAgent(\n",
    "    name=\"SEO Reviewer\",\n",
    "    llm_config=llm_config,\n",
    "    system_message=\"You are an SEO reviewer, known for \"\n",
    "        \"your ability to optimize content for search engines, \"\n",
    "        \"ensuring that it ranks well and attracts organic traffic. \" \n",
    "        \"Make sure your suggestion is concise (within 3 bullet points), \"\n",
    "        \"concrete and to the point. \"\n",
    "        \"Begin the review by stating your role.\",\n",
    ")\n"
   ]
  },
  {
   "cell_type": "code",
   "execution_count": 11,
   "id": "f85acb81-7ab9-4c84-b8bb-6fbae3dce848",
   "metadata": {
    "height": 183
   },
   "outputs": [
    {
     "name": "stdout",
     "output_type": "stream",
     "text": [
      "[autogen.oai.client: 07-12 17:37:30] {129} WARNING - The API key specified is not a valid OpenAI format; it won't work with the OpenAI-hosted model.\n"
     ]
    }
   ],
   "source": [
    "legal_reviewer = autogen.AssistantAgent(\n",
    "    name=\"Legal Reviewer\",\n",
    "    llm_config=llm_config,\n",
    "    system_message=\"You are a legal reviewer, known for \"\n",
    "        \"your ability to ensure that content is legally compliant \"\n",
    "        \"and free from any potential legal issues. \"\n",
    "        \"Make sure your suggestion is concise (within 3 bullet points), \"\n",
    "        \"concrete and to the point. \"\n",
    "        \"Begin the review by stating your role.\",\n",
    ")"
   ]
  },
  {
   "cell_type": "code",
   "execution_count": 12,
   "id": "d46a177a-8088-4956-8d2b-3e916b8ca5e9",
   "metadata": {
    "height": 183
   },
   "outputs": [
    {
     "name": "stdout",
     "output_type": "stream",
     "text": [
      "[autogen.oai.client: 07-12 17:37:41] {129} WARNING - The API key specified is not a valid OpenAI format; it won't work with the OpenAI-hosted model.\n"
     ]
    }
   ],
   "source": [
    "ethics_reviewer = autogen.AssistantAgent(\n",
    "    name=\"Ethics Reviewer\",\n",
    "    llm_config=llm_config,\n",
    "    system_message=\"You are an ethics reviewer, known for \"\n",
    "        \"your ability to ensure that content is ethically sound \"\n",
    "        \"and free from any potential ethical issues. \" \n",
    "        \"Make sure your suggestion is concise (within 3 bullet points), \"\n",
    "        \"concrete and to the point. \"\n",
    "        \"Begin the review by stating your role. \",\n",
    ")"
   ]
  },
  {
   "cell_type": "code",
   "execution_count": 13,
   "id": "a7b2ad6f-8ba6-436a-9459-14ffbe8a32d3",
   "metadata": {
    "height": 115
   },
   "outputs": [
    {
     "name": "stdout",
     "output_type": "stream",
     "text": [
      "[autogen.oai.client: 07-12 17:37:55] {129} WARNING - The API key specified is not a valid OpenAI format; it won't work with the OpenAI-hosted model.\n"
     ]
    }
   ],
   "source": [
    "meta_reviewer = autogen.AssistantAgent(\n",
    "    name=\"Meta Reviewer\",\n",
    "    llm_config=llm_config,\n",
    "    system_message=\"You are a meta reviewer, you aggragate and review \"\n",
    "    \"the work of other reviewers and give a final suggestion on the content.\",\n",
    ")"
   ]
  },
  {
   "cell_type": "markdown",
   "id": "913beca1",
   "metadata": {},
   "source": [
    "## Orchestrate the nested chats to solve the task"
   ]
  },
  {
   "cell_type": "code",
   "execution_count": 14,
   "id": "a11a70c7-19ca-4e5a-ad3d-f2b481fb5915",
   "metadata": {
    "height": 540
   },
   "outputs": [],
   "source": [
    "def reflection_message(recipient, messages, sender, config):\n",
    "    \"\"\" \n",
    "    Generate a message for the reviewer to reflect on the content. \n",
    "    \"\"\"\n",
    "    return f'''Review the following content. \n",
    "            \\n\\n {recipient.chat_messages_for_summary(sender)[-1]['content']}'''\n",
    "\n",
    "review_chats = [  # 4 chats. 1 for each reviewer and 1 for meta reviewer\n",
    "    {\n",
    "     \"recipient\": SEO_reviewer, \n",
    "     \"message\": reflection_message, \n",
    "     \"summary_method\": \"reflection_with_llm\",\n",
    "     \"summary_args\": {\"summary_prompt\" : \n",
    "        \"Return review into as JSON object only:\"\n",
    "        \"{'Reviewer': '', 'Review': ''}. Here Reviewer should be your role\",},\n",
    "     \"max_turns\": 1},\n",
    "    {\n",
    "    \"recipient\": legal_reviewer, \"message\": reflection_message, \n",
    "     \"summary_method\": \"reflection_with_llm\",\n",
    "     \"summary_args\": {\"summary_prompt\" : \n",
    "        \"Return review into as JSON object only:\"\n",
    "        \"{'Reviewer': '', 'Review': ''}.\",},\n",
    "     \"max_turns\": 1},\n",
    "    {\"recipient\": ethics_reviewer, \"message\": reflection_message, \n",
    "     \"summary_method\": \"reflection_with_llm\",\n",
    "     \"summary_args\": {\"summary_prompt\" : \n",
    "        \"Return review into as JSON object only:\"\n",
    "        \"{'reviewer': '', 'review': ''}\",},\n",
    "     \"max_turns\": 1},\n",
    "     {\"recipient\": meta_reviewer, \n",
    "      \"message\": \"Aggregrate feedback from all reviewers and give final suggestions on the writing.\", \n",
    "     \"max_turns\": 1},\n",
    "]\n"
   ]
  },
  {
   "cell_type": "code",
   "execution_count": 15,
   "id": "b3a40b66-5061-460d-ad9d-c0dbcfbba2e9",
   "metadata": {
    "height": 81
   },
   "outputs": [],
   "source": [
    "critic.register_nested_chats(\n",
    "    review_chats,\n",
    "    trigger=writer,\n",
    ")"
   ]
  },
  {
   "cell_type": "markdown",
   "id": "43b8797d",
   "metadata": {},
   "source": [
    "**Note**: You might get a slightly different response than what's shown in the video. Feel free to try different task."
   ]
  },
  {
   "cell_type": "code",
   "execution_count": 16,
   "id": "3b8dcac3-1e72-43b7-9d5a-1be740f6efd5",
   "metadata": {
    "height": 115
   },
   "outputs": [
    {
     "name": "stdout",
     "output_type": "stream",
     "text": [
      "\u001b[33mCritic\u001b[0m (to Writer):\n",
      "\n",
      "\n",
      "        Write a concise but engaging blogpost about\n",
      "       DeepLearning.AI. Make sure the blogpost is\n",
      "       within 100 words.\n",
      "       \n",
      "\n",
      "--------------------------------------------------------------------------------\n",
      "\u001b[33mWriter\u001b[0m (to Critic):\n",
      "\n",
      "Title: Unveiling the Power of DeepLearning.AI\n",
      "\n",
      "Dive into the world of artificial intelligence with DeepLearning.AI! Offering top-notch courses created by professionals like Andrew Ng, this platform makes complex concepts simple and accessible to all. From neural networks to deep learning algorithms, you’ll master it all. Whether you're a beginner or an expert, there's something for everyone. Sharpen your skills, land that dream job, or simply satisfy your curiosity. With DeepLearning.AI, the possibilities are endless. Join the AI revolution today!\n",
      "\n",
      "--------------------------------------------------------------------------------\n",
      "\u001b[34m\n",
      "********************************************************************************\u001b[0m\n",
      "\u001b[34mStarting a new chat....\u001b[0m\n",
      "\u001b[34m\n",
      "********************************************************************************\u001b[0m\n",
      "\u001b[33mCritic\u001b[0m (to SEO Reviewer):\n",
      "\n",
      "Review the following content. \n",
      "            \n",
      "\n",
      " Title: Unveiling the Power of DeepLearning.AI\n",
      "\n",
      "Dive into the world of artificial intelligence with DeepLearning.AI! Offering top-notch courses created by professionals like Andrew Ng, this platform makes complex concepts simple and accessible to all. From neural networks to deep learning algorithms, you’ll master it all. Whether you're a beginner or an expert, there's something for everyone. Sharpen your skills, land that dream job, or simply satisfy your curiosity. With DeepLearning.AI, the possibilities are endless. Join the AI revolution today!\n",
      "\n",
      "--------------------------------------------------------------------------------\n",
      "\u001b[33mSEO Reviewer\u001b[0m (to Critic):\n",
      "\n",
      "As an SEO reviewer, my feedback on the content is as follows:\n",
      "\n",
      "- Enhance the title with keywords: Consider adding relevant keywords like \"online courses\" or \"AI training\" to improve search visibility. For example, \"Empower Your AI Journey with DeepLearning.AI Online Courses.\"\n",
      "  \n",
      "- Include target keywords in the body: Integrate keywords like \"artificial intelligence courses\" and \"Andrew Ng\" strategically in the content to boost search engine rankings.\n",
      "  \n",
      "- Utilize meta description: Craft a compelling meta description that encapsulates the essence of DeepLearning.AI's offerings and includes key terms for better search engine optimization.\n",
      "\n",
      "--------------------------------------------------------------------------------\n",
      "\u001b[34m\n",
      "********************************************************************************\u001b[0m\n",
      "\u001b[34mStarting a new chat....\u001b[0m\n",
      "\u001b[34m\n",
      "********************************************************************************\u001b[0m\n",
      "\u001b[33mCritic\u001b[0m (to Legal Reviewer):\n",
      "\n",
      "Review the following content. \n",
      "            \n",
      "\n",
      " Title: Unveiling the Power of DeepLearning.AI\n",
      "\n",
      "Dive into the world of artificial intelligence with DeepLearning.AI! Offering top-notch courses created by professionals like Andrew Ng, this platform makes complex concepts simple and accessible to all. From neural networks to deep learning algorithms, you’ll master it all. Whether you're a beginner or an expert, there's something for everyone. Sharpen your skills, land that dream job, or simply satisfy your curiosity. With DeepLearning.AI, the possibilities are endless. Join the AI revolution today!\n",
      "Context: \n",
      "{'Reviewer': 'SEO Specialist', 'Review': 'Consider enhancing the title with relevant keywords like \"online courses\" or \"AI training\" for better search visibility. Make sure to strategically integrate target keywords like \"artificial intelligence courses\" and \"Andrew Ng\" in the content. Craft a compelling meta description to improve search engine optimization.'}\n",
      "\n",
      "--------------------------------------------------------------------------------\n",
      "\u001b[33mLegal Reviewer\u001b[0m (to Critic):\n",
      "\n",
      "As a Legal Reviewer, my role is to ensure content compliance and identify potential legal issues.\n",
      "\n",
      "- Avoid making unsubstantiated claims: Ensure all statements made about the courses, professionals involved, and benefits are accurate and supported by evidence.\n",
      "- Use clear disclaimers: If there are guarantees or promises of outcomes, clearly state any limitations or conditions associated with them to avoid misleading the audience.\n",
      "- Check for trademark usage: Verify that the terms \"DeepLearning.AI\" and \"AI revolution\" are appropriately used and not in a way that could infringe on any existing trademarks.\n",
      "\n",
      "--------------------------------------------------------------------------------\n",
      "\u001b[34m\n",
      "********************************************************************************\u001b[0m\n",
      "\u001b[34mStarting a new chat....\u001b[0m\n",
      "\u001b[34m\n",
      "********************************************************************************\u001b[0m\n",
      "\u001b[33mCritic\u001b[0m (to Ethics Reviewer):\n",
      "\n",
      "Review the following content. \n",
      "            \n",
      "\n",
      " Title: Unveiling the Power of DeepLearning.AI\n",
      "\n",
      "Dive into the world of artificial intelligence with DeepLearning.AI! Offering top-notch courses created by professionals like Andrew Ng, this platform makes complex concepts simple and accessible to all. From neural networks to deep learning algorithms, you’ll master it all. Whether you're a beginner or an expert, there's something for everyone. Sharpen your skills, land that dream job, or simply satisfy your curiosity. With DeepLearning.AI, the possibilities are endless. Join the AI revolution today!\n",
      "Context: \n",
      "{'Reviewer': 'SEO Specialist', 'Review': 'Consider enhancing the title with relevant keywords like \"online courses\" or \"AI training\" for better search visibility. Make sure to strategically integrate target keywords like \"artificial intelligence courses\" and \"Andrew Ng\" in the content. Craft a compelling meta description to improve search engine optimization.'}\n",
      "{'Reviewer': 'Legal Reviewer', 'Review': 'Avoid making unsubstantiated claims. Use clear disclaimers. Check for trademark usage.'}\n",
      "\n",
      "--------------------------------------------------------------------------------\n",
      "\u001b[33mEthics Reviewer\u001b[0m (to Critic):\n",
      "\n",
      "As an ethics reviewer:\n",
      "\n",
      "- Ensure that any claims made about the platform's efficacy or outcomes are backed by evidence to avoid deceptive marketing practices.\n",
      "- Include a disclaimer stating the limits of the courses and managing user expectations regarding job placement or skill acquisition.\n",
      "- By using any trademarks like Andrew Ng's name, ensure proper attribution and compliance with any relevant legal considerations.\n",
      "\n",
      "--------------------------------------------------------------------------------\n",
      "\u001b[34m\n",
      "********************************************************************************\u001b[0m\n",
      "\u001b[34mStarting a new chat....\u001b[0m\n",
      "\u001b[34m\n",
      "********************************************************************************\u001b[0m\n",
      "\u001b[33mCritic\u001b[0m (to Meta Reviewer):\n",
      "\n",
      "Aggregrate feedback from all reviewers and give final suggestions on the writing.\n",
      "Context: \n",
      "{'Reviewer': 'SEO Specialist', 'Review': 'Consider enhancing the title with relevant keywords like \"online courses\" or \"AI training\" for better search visibility. Make sure to strategically integrate target keywords like \"artificial intelligence courses\" and \"Andrew Ng\" in the content. Craft a compelling meta description to improve search engine optimization.'}\n",
      "{'Reviewer': 'Legal Reviewer', 'Review': 'Avoid making unsubstantiated claims. Use clear disclaimers. Check for trademark usage.'}\n",
      "{'reviewer': 'SEO Specialist', 'review': 'Consider enhancing the title with relevant keywords like \"online courses\" or \"AI training\" for better search visibility. Make sure to strategically integrate target keywords like \"artificial intelligence courses\" and \"Andrew Ng\" in the content. Craft a compelling meta description to improve search engine optimization.'}\n",
      "\n",
      "--------------------------------------------------------------------------------\n",
      "\u001b[33mMeta Reviewer\u001b[0m (to Critic):\n",
      "\n",
      "After aggregating the feedback from the reviewers, here are the key points to consider:\n",
      "\n",
      "1. Enhance the title with relevant keywords such as \"online courses,\" \"AI training,\" \"artificial intelligence courses,\" and \"Andrew Ng\" for better search visibility.\n",
      "2. Strategically integrate target keywords throughout the content to improve SEO.\n",
      "3. Craft a compelling meta description for better search engine optimization.\n",
      "4. Avoid making unsubstantiated claims and ensure the use of clear disclaimers.\n",
      "5. Check for trademark usage to avoid any legal issues.\n",
      "\n",
      "Final Suggestions:\n",
      "- Focus on optimizing the content for search engines by incorporating relevant keywords and crafting a compelling meta description.\n",
      "- Ensure that all claims made in the content are backed up with evidence and include clear disclaimers where necessary.\n",
      "- Check for trademark infringement and make necessary corrections to comply with legal standards.\n",
      "\n",
      "By addressing the feedback provided by both the SEO Specialist and the Legal Reviewer, you can enhance the visibility and credibility of the content while also ensuring compliance with legal requirements.\n",
      "\n",
      "--------------------------------------------------------------------------------\n",
      "\u001b[33mCritic\u001b[0m (to Writer):\n",
      "\n",
      "After aggregating the feedback from the reviewers, here are the key points to consider:\n",
      "\n",
      "1. Enhance the title with relevant keywords such as \"online courses,\" \"AI training,\" \"artificial intelligence courses,\" and \"Andrew Ng\" for better search visibility.\n",
      "2. Strategically integrate target keywords throughout the content to improve SEO.\n",
      "3. Craft a compelling meta description for better search engine optimization.\n",
      "4. Avoid making unsubstantiated claims and ensure the use of clear disclaimers.\n",
      "5. Check for trademark usage to avoid any legal issues.\n",
      "\n",
      "Final Suggestions:\n",
      "- Focus on optimizing the content for search engines by incorporating relevant keywords and crafting a compelling meta description.\n",
      "- Ensure that all claims made in the content are backed up with evidence and include clear disclaimers where necessary.\n",
      "- Check for trademark infringement and make necessary corrections to comply with legal standards.\n",
      "\n",
      "By addressing the feedback provided by both the SEO Specialist and the Legal Reviewer, you can enhance the visibility and credibility of the content while also ensuring compliance with legal requirements.\n",
      "\n",
      "--------------------------------------------------------------------------------\n",
      "\u001b[33mWriter\u001b[0m (to Critic):\n",
      "\n",
      "Title: Master AI with DeepLearning.AI Online Courses by Andrew Ng\n",
      "\n",
      "Unleash the potential of artificial intelligence through DeepLearning.AI's award-winning online courses. Led by renowned expert Andrew Ng, these AI training programs cover everything from neural networks to cutting-edge algorithms. Whether you're a novice or a pro, these artificial intelligence courses cater to all skill levels. Elevate your expertise, advance your career prospects, or simply satiate your curiosity. Join the AI revolution today with DeepLearning.AI, your gateway to a brighter, AI-fueled future.\n",
      "\n",
      "Meta Description: Dive into the world of artificial intelligence with DeepLearning.AI. Explore online courses taught by Andrew Ng, covering neural networks and advanced algorithms. Perfect for beginners and experts alike. Start your AI journey now!\n",
      "\n",
      "--------------------------------------------------------------------------------\n"
     ]
    }
   ],
   "source": [
    "res = critic.initiate_chat(\n",
    "    recipient=writer,\n",
    "    message=task,\n",
    "    max_turns=2,\n",
    "    summary_method=\"last_msg\"\n",
    ")"
   ]
  },
  {
   "cell_type": "markdown",
   "id": "c5c833b0",
   "metadata": {},
   "source": [
    "## Get the summary"
   ]
  },
  {
   "cell_type": "code",
   "execution_count": 17,
   "id": "68ef82ed-f102-4964-b7be-60e2f258a39b",
   "metadata": {
    "height": 30
   },
   "outputs": [
    {
     "name": "stdout",
     "output_type": "stream",
     "text": [
      "Title: Master AI with DeepLearning.AI Online Courses by Andrew Ng\n",
      "\n",
      "Unleash the potential of artificial intelligence through DeepLearning.AI's award-winning online courses. Led by renowned expert Andrew Ng, these AI training programs cover everything from neural networks to cutting-edge algorithms. Whether you're a novice or a pro, these artificial intelligence courses cater to all skill levels. Elevate your expertise, advance your career prospects, or simply satiate your curiosity. Join the AI revolution today with DeepLearning.AI, your gateway to a brighter, AI-fueled future.\n",
      "\n",
      "Meta Description: Dive into the world of artificial intelligence with DeepLearning.AI. Explore online courses taught by Andrew Ng, covering neural networks and advanced algorithms. Perfect for beginners and experts alike. Start your AI journey now!\n"
     ]
    }
   ],
   "source": [
    "print(res.summary)"
   ]
  },
  {
   "cell_type": "code",
   "execution_count": 19,
   "id": "651e7fd9",
   "metadata": {},
   "outputs": [
    {
     "name": "stdout",
     "output_type": "stream",
     "text": [
      "The cost of the chat session is: {'usage_including_cached_inference': {'total_cost': 0.001699, 'gpt-3.5-turbo-0125': {'cost': 0.001699, 'prompt_tokens': 1196, 'completion_tokens': 734, 'total_tokens': 1930}}, 'usage_excluding_cached_inference': {'total_cost': 0.0010825000000000001, 'gpt-3.5-turbo-0125': {'cost': 0.0010825000000000001, 'prompt_tokens': 935, 'completion_tokens': 410, 'total_tokens': 1345}}}\n"
     ]
    }
   ],
   "source": [
    "# Access and print the cost from the response object\n",
    "cost = res.cost  # Modify this line based on the actual attribute name\n",
    "print(f\"The cost of the chat session is: {cost}\")"
   ]
  },
  {
   "cell_type": "code",
   "execution_count": 20,
   "id": "8252ed98",
   "metadata": {},
   "outputs": [
    {
     "name": "stdout",
     "output_type": "stream",
     "text": [
      "['__annotations__', '__class__', '__dataclass_fields__', '__dataclass_params__', '__delattr__', '__dict__', '__dir__', '__doc__', '__eq__', '__format__', '__ge__', '__getattribute__', '__getstate__', '__gt__', '__hash__', '__init__', '__init_subclass__', '__le__', '__lt__', '__match_args__', '__module__', '__ne__', '__new__', '__reduce__', '__reduce_ex__', '__repr__', '__setattr__', '__sizeof__', '__str__', '__subclasshook__', '__weakref__', 'chat_history', 'chat_id', 'cost', 'human_input', 'summary']\n",
      "ChatResult(chat_id=None, chat_history=[{'content': '\\n        Write a concise but engaging blogpost about\\n       DeepLearning.AI. Make sure the blogpost is\\n       within 100 words.\\n       ', 'role': 'assistant'}, {'content': \"Title: Unveiling the Power of DeepLearning.AI\\n\\nDive into the world of artificial intelligence with DeepLearning.AI! Offering top-notch courses created by professionals like Andrew Ng, this platform makes complex concepts simple and accessible to all. From neural networks to deep learning algorithms, you’ll master it all. Whether you're a beginner or an expert, there's something for everyone. Sharpen your skills, land that dream job, or simply satisfy your curiosity. With DeepLearning.AI, the possibilities are endless. Join the AI revolution today!\", 'role': 'user'}, {'content': 'After aggregating the feedback from the reviewers, here are the key points to consider:\\n\\n1. Enhance the title with relevant keywords such as \"online courses,\" \"AI training,\" \"artificial intelligence courses,\" and \"Andrew Ng\" for better search visibility.\\n2. Strategically integrate target keywords throughout the content to improve SEO.\\n3. Craft a compelling meta description for better search engine optimization.\\n4. Avoid making unsubstantiated claims and ensure the use of clear disclaimers.\\n5. Check for trademark usage to avoid any legal issues.\\n\\nFinal Suggestions:\\n- Focus on optimizing the content for search engines by incorporating relevant keywords and crafting a compelling meta description.\\n- Ensure that all claims made in the content are backed up with evidence and include clear disclaimers where necessary.\\n- Check for trademark infringement and make necessary corrections to comply with legal standards.\\n\\nBy addressing the feedback provided by both the SEO Specialist and the Legal Reviewer, you can enhance the visibility and credibility of the content while also ensuring compliance with legal requirements.', 'role': 'assistant'}, {'content': \"Title: Master AI with DeepLearning.AI Online Courses by Andrew Ng\\n\\nUnleash the potential of artificial intelligence through DeepLearning.AI's award-winning online courses. Led by renowned expert Andrew Ng, these AI training programs cover everything from neural networks to cutting-edge algorithms. Whether you're a novice or a pro, these artificial intelligence courses cater to all skill levels. Elevate your expertise, advance your career prospects, or simply satiate your curiosity. Join the AI revolution today with DeepLearning.AI, your gateway to a brighter, AI-fueled future.\\n\\nMeta Description: Dive into the world of artificial intelligence with DeepLearning.AI. Explore online courses taught by Andrew Ng, covering neural networks and advanced algorithms. Perfect for beginners and experts alike. Start your AI journey now!\", 'role': 'user'}], summary=\"Title: Master AI with DeepLearning.AI Online Courses by Andrew Ng\\n\\nUnleash the potential of artificial intelligence through DeepLearning.AI's award-winning online courses. Led by renowned expert Andrew Ng, these AI training programs cover everything from neural networks to cutting-edge algorithms. Whether you're a novice or a pro, these artificial intelligence courses cater to all skill levels. Elevate your expertise, advance your career prospects, or simply satiate your curiosity. Join the AI revolution today with DeepLearning.AI, your gateway to a brighter, AI-fueled future.\\n\\nMeta Description: Dive into the world of artificial intelligence with DeepLearning.AI. Explore online courses taught by Andrew Ng, covering neural networks and advanced algorithms. Perfect for beginners and experts alike. Start your AI journey now!\", cost={'usage_including_cached_inference': {'total_cost': 0.001699, 'gpt-3.5-turbo-0125': {'cost': 0.001699, 'prompt_tokens': 1196, 'completion_tokens': 734, 'total_tokens': 1930}}, 'usage_excluding_cached_inference': {'total_cost': 0.0010825000000000001, 'gpt-3.5-turbo-0125': {'cost': 0.0010825000000000001, 'prompt_tokens': 935, 'completion_tokens': 410, 'total_tokens': 1345}}}, human_input=[])\n"
     ]
    },
    {
     "ename": "AttributeError",
     "evalue": "'ChatResult' object has no attribute 'details'",
     "output_type": "error",
     "traceback": [
      "\u001b[0;31m---------------------------------------------------------------------------\u001b[0m",
      "\u001b[0;31mAttributeError\u001b[0m                            Traceback (most recent call last)",
      "Cell \u001b[0;32mIn[20], line 7\u001b[0m\n\u001b[1;32m      3\u001b[0m \u001b[38;5;28mprint\u001b[39m(res)\n\u001b[1;32m      5\u001b[0m \u001b[38;5;66;03m# Access the cost if it is nested within another attribute\u001b[39;00m\n\u001b[1;32m      6\u001b[0m \u001b[38;5;66;03m# Example: cost might be within a 'details' attribute or similar\u001b[39;00m\n\u001b[0;32m----> 7\u001b[0m cost \u001b[38;5;241m=\u001b[39m \u001b[43mres\u001b[49m\u001b[38;5;241;43m.\u001b[39;49m\u001b[43mdetails\u001b[49m\u001b[38;5;241m.\u001b[39mcost  \u001b[38;5;66;03m# Adjust based on the actual structure\u001b[39;00m\n\u001b[1;32m      8\u001b[0m \u001b[38;5;28mprint\u001b[39m(\u001b[38;5;124mf\u001b[39m\u001b[38;5;124m\"\u001b[39m\u001b[38;5;124mThe cost of the chat session is: \u001b[39m\u001b[38;5;132;01m{\u001b[39;00mcost\u001b[38;5;132;01m}\u001b[39;00m\u001b[38;5;124m\"\u001b[39m)\n",
      "\u001b[0;31mAttributeError\u001b[0m: 'ChatResult' object has no attribute 'details'"
     ]
    }
   ],
   "source": [
    "# Inspect the structure of the response object\n",
    "print(dir(res))\n",
    "print(res)\n",
    "\n",
    "# Access the cost if it is nested within another attribute\n",
    "# Example: cost might be within a 'details' attribute or similar\n",
    "cost = res.details.cost  # Adjust based on the actual structure\n",
    "print(f\"The cost of the chat session is: {cost}\")\n"
   ]
  }
 ],
 "metadata": {
  "kernelspec": {
   "display_name": "Python 3 (ipykernel)",
   "language": "python",
   "name": "python3"
  },
  "language_info": {
   "codemirror_mode": {
    "name": "ipython",
    "version": 3
   },
   "file_extension": ".py",
   "mimetype": "text/x-python",
   "name": "python",
   "nbconvert_exporter": "python",
   "pygments_lexer": "ipython3",
   "version": "3.11.6"
  }
 },
 "nbformat": 4,
 "nbformat_minor": 5
}
